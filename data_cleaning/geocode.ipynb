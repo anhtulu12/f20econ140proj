{
 "cells": [
  {
   "cell_type": "code",
   "execution_count": 23,
   "metadata": {},
   "outputs": [],
   "source": [
    "import googlemaps\n",
    "from datetime import datetime\n",
    "import requests\n",
    "\n",
    "import numpy as np\n",
    "import pandas as pd\n",
    "import re"
   ]
  },
  {
   "cell_type": "code",
   "execution_count": 154,
   "metadata": {
    "scrolled": true
   },
   "outputs": [],
   "source": [
    "transit = pd.read_csv(r'/Users/renasong/Documents/github/f20econ140proj/data_cleaning/alltransit_data_places_06.csv',\n",
    "                        error_bad_lines=False)\n",
    "transit.to_csv(r'/Users/renasong/Documents/github/f20econ140proj/data_cleaning/alltransit_data_places_06.csv', index=None)"
   ]
  },
  {
   "cell_type": "code",
   "execution_count": 155,
   "metadata": {},
   "outputs": [
    {
     "data": {
      "text/html": [
       "<div>\n",
       "<style scoped>\n",
       "    .dataframe tbody tr th:only-of-type {\n",
       "        vertical-align: middle;\n",
       "    }\n",
       "\n",
       "    .dataframe tbody tr th {\n",
       "        vertical-align: top;\n",
       "    }\n",
       "\n",
       "    .dataframe thead th {\n",
       "        text-align: right;\n",
       "    }\n",
       "</style>\n",
       "<table border=\"1\" class=\"dataframe\">\n",
       "  <thead>\n",
       "    <tr style=\"text-align: right;\">\n",
       "      <th></th>\n",
       "      <th>place</th>\n",
       "      <th>name</th>\n",
       "      <th>blkgrps</th>\n",
       "      <th>population</th>\n",
       "      <th>households</th>\n",
       "      <th>alltransit_performance_score</th>\n",
       "    </tr>\n",
       "  </thead>\n",
       "  <tbody>\n",
       "    <tr>\n",
       "      <th>0</th>\n",
       "      <td>\"0600135\"</td>\n",
       "      <td>\"Acalanes Ridge\"</td>\n",
       "      <td>0.91</td>\n",
       "      <td>1143.99</td>\n",
       "      <td>417.12</td>\n",
       "      <td>7.5</td>\n",
       "    </tr>\n",
       "    <tr>\n",
       "      <th>1</th>\n",
       "      <td>\"0600156\"</td>\n",
       "      <td>\"Acampo\"</td>\n",
       "      <td>0.08</td>\n",
       "      <td>96.17</td>\n",
       "      <td>40.55</td>\n",
       "      <td>0.7</td>\n",
       "    </tr>\n",
       "    <tr>\n",
       "      <th>2</th>\n",
       "      <td>\"0600212\"</td>\n",
       "      <td>\"Acton\"</td>\n",
       "      <td>1.94</td>\n",
       "      <td>4843.59</td>\n",
       "      <td>1663.16</td>\n",
       "      <td>1.1</td>\n",
       "    </tr>\n",
       "    <tr>\n",
       "      <th>3</th>\n",
       "      <td>\"0600296\"</td>\n",
       "      <td>\"Adelanto\"</td>\n",
       "      <td>8.43</td>\n",
       "      <td>29903.40</td>\n",
       "      <td>7600.72</td>\n",
       "      <td>3.0</td>\n",
       "    </tr>\n",
       "    <tr>\n",
       "      <th>4</th>\n",
       "      <td>\"0600310\"</td>\n",
       "      <td>\"Adin\"</td>\n",
       "      <td>0.01</td>\n",
       "      <td>4.37</td>\n",
       "      <td>1.90</td>\n",
       "      <td>0.2</td>\n",
       "    </tr>\n",
       "    <tr>\n",
       "      <th>...</th>\n",
       "      <td>...</td>\n",
       "      <td>...</td>\n",
       "      <td>...</td>\n",
       "      <td>...</td>\n",
       "      <td>...</td>\n",
       "      <td>...</td>\n",
       "    </tr>\n",
       "    <tr>\n",
       "      <th>1517</th>\n",
       "      <td>\"0686944\"</td>\n",
       "      <td>\"Yreka\"</td>\n",
       "      <td>3.94</td>\n",
       "      <td>5524.27</td>\n",
       "      <td>2494.07</td>\n",
       "      <td>1.7</td>\n",
       "    </tr>\n",
       "    <tr>\n",
       "      <th>1518</th>\n",
       "      <td>\"0686972\"</td>\n",
       "      <td>\"Yuba City\"</td>\n",
       "      <td>34.80</td>\n",
       "      <td>57003.93</td>\n",
       "      <td>19505.09</td>\n",
       "      <td>3.7</td>\n",
       "    </tr>\n",
       "    <tr>\n",
       "      <th>1519</th>\n",
       "      <td>\"0687042\"</td>\n",
       "      <td>\"Yucaipa\"</td>\n",
       "      <td>31.13</td>\n",
       "      <td>51662.99</td>\n",
       "      <td>17557.67</td>\n",
       "      <td>4.1</td>\n",
       "    </tr>\n",
       "    <tr>\n",
       "      <th>1520</th>\n",
       "      <td>\"0687056\"</td>\n",
       "      <td>\"Yucca Valley\"</td>\n",
       "      <td>10.09</td>\n",
       "      <td>20706.33</td>\n",
       "      <td>8371.42</td>\n",
       "      <td>2.0</td>\n",
       "    </tr>\n",
       "    <tr>\n",
       "      <th>1521</th>\n",
       "      <td>\"0687090\"</td>\n",
       "      <td>\"Zayante\"</td>\n",
       "      <td>0.48</td>\n",
       "      <td>612.34</td>\n",
       "      <td>218.66</td>\n",
       "      <td>1.5</td>\n",
       "    </tr>\n",
       "  </tbody>\n",
       "</table>\n",
       "<p>1522 rows × 6 columns</p>\n",
       "</div>"
      ],
      "text/plain": [
       "          place              name  blkgrps  population  households  \\\n",
       "0     \"0600135\"  \"Acalanes Ridge\"     0.91     1143.99      417.12   \n",
       "1     \"0600156\"          \"Acampo\"     0.08       96.17       40.55   \n",
       "2     \"0600212\"           \"Acton\"     1.94     4843.59     1663.16   \n",
       "3     \"0600296\"        \"Adelanto\"     8.43    29903.40     7600.72   \n",
       "4     \"0600310\"            \"Adin\"     0.01        4.37        1.90   \n",
       "...         ...               ...      ...         ...         ...   \n",
       "1517  \"0686944\"           \"Yreka\"     3.94     5524.27     2494.07   \n",
       "1518  \"0686972\"       \"Yuba City\"    34.80    57003.93    19505.09   \n",
       "1519  \"0687042\"         \"Yucaipa\"    31.13    51662.99    17557.67   \n",
       "1520  \"0687056\"    \"Yucca Valley\"    10.09    20706.33     8371.42   \n",
       "1521  \"0687090\"         \"Zayante\"     0.48      612.34      218.66   \n",
       "\n",
       "      alltransit_performance_score  \n",
       "0                              7.5  \n",
       "1                              0.7  \n",
       "2                              1.1  \n",
       "3                              3.0  \n",
       "4                              0.2  \n",
       "...                            ...  \n",
       "1517                           1.7  \n",
       "1518                           3.7  \n",
       "1519                           4.1  \n",
       "1520                           2.0  \n",
       "1521                           1.5  \n",
       "\n",
       "[1522 rows x 6 columns]"
      ]
     },
     "execution_count": 155,
     "metadata": {},
     "output_type": "execute_result"
    }
   ],
   "source": [
    "transit"
   ]
  },
  {
   "cell_type": "code",
   "execution_count": 132,
   "metadata": {
    "scrolled": true
   },
   "outputs": [],
   "source": [
    "gmaps = googlemaps.Client(key='___')\n",
    "\n",
    "# Geocoding an address\n",
    "zips=[]\n",
    "for place in transit['name']:\n",
    "    search=''.join(str(elem) for elem in re.findall(r'[^\\\"]',place))+', CA'\n",
    "    geocode_result = gmaps.geocode(search)\n",
    "    if len(re.findall(r'9\\d\\d\\d\\d', str(geocode_result[0].get('address_components'))))>0:\n",
    "        ZIP=re.findall(r'9\\d\\d\\d\\d', str(geocode_result[0].get('address_components')))[0]\n",
    "        zips.append(ZIP)\n",
    "    else:\n",
    "        zips.append('NaN')"
   ]
  },
  {
   "cell_type": "code",
   "execution_count": 156,
   "metadata": {
    "scrolled": true
   },
   "outputs": [],
   "source": [
    "transit['zip']=zips\n",
    "transit=transit.dropna()"
   ]
  },
  {
   "cell_type": "code",
   "execution_count": 157,
   "metadata": {},
   "outputs": [],
   "source": [
    "transit=transit[['alltransit_performance_score','zip']]"
   ]
  },
  {
   "cell_type": "code",
   "execution_count": 159,
   "metadata": {},
   "outputs": [],
   "source": [
    "transit.to_csv('transit_data.csv')"
   ]
  },
  {
   "cell_type": "code",
   "execution_count": null,
   "metadata": {},
   "outputs": [],
   "source": []
  }
 ],
 "metadata": {
  "kernelspec": {
   "display_name": "Python 3",
   "language": "python",
   "name": "python3"
  },
  "language_info": {
   "codemirror_mode": {
    "name": "ipython",
    "version": 3
   },
   "file_extension": ".py",
   "mimetype": "text/x-python",
   "name": "python",
   "nbconvert_exporter": "python",
   "pygments_lexer": "ipython3",
   "version": "3.8.5"
  }
 },
 "nbformat": 4,
 "nbformat_minor": 4
}
